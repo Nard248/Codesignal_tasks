{
 "cells": [
  {
   "cell_type": "code",
   "execution_count": 1,
   "metadata": {
    "collapsed": true,
    "pycharm": {
     "name": "#%%\n"
    }
   },
   "outputs": [],
   "source": [
    "import pandas as pd\n",
    "import numpy as np"
   ]
  },
  {
   "cell_type": "code",
   "execution_count": 2,
   "outputs": [],
   "source": [
    "existing_names = ['Adelina',\n",
    "                  'Adrine',\n",
    "                  'Aghvan',\n",
    "                  'Aida',\n",
    "                  'Albert',\n",
    "                  'Aleksandr',\n",
    "                  'Alik',\n",
    "                  'Alina',\n",
    "                  'Alla',\n",
    "                  'Amalia',\n",
    "                  'Anahit',\n",
    "                  'Anatoli',\n",
    "                  'Andranik',\n",
    "                  'Andrey',\n",
    "                  'Angela',\n",
    "                  'Ani',\n",
    "                  'Anna',\n",
    "                  'Anush',\n",
    "                  'Anushik',\n",
    "                  'Anzhela',\n",
    "                  'Ara',\n",
    "                  'Aram',\n",
    "                  'Aramayis',\n",
    "                  'Arayik',\n",
    "                  'Areg',\n",
    "                  'Aren',\n",
    "                  'Arevik',\n",
    "                  'Arman',\n",
    "                  'Armen',\n",
    "                  'Armenuhi',\n",
    "                  'Armine',\n",
    "                  'Armo',\n",
    "                  'Arpi',\n",
    "                  'Arpine',\n",
    "                  'Arsen',\n",
    "                  'Arshak',\n",
    "                  'Artak',\n",
    "                  'Artashes',\n",
    "                  'Artavazd',\n",
    "                  'Artur',\n",
    "                  'Artyom',\n",
    "                  'Arus',\n",
    "                  'Arusyak',\n",
    "                  'Ashkhen',\n",
    "                  'Ashot',\n",
    "                  'Astghik',\n",
    "                  'Asya',\n",
    "                  'Avetik',\n",
    "                  'Azat',\n",
    "                  'Babken',\n",
    "                  'Bagrat',\n",
    "                  'Beniamin',\n",
    "                  'Boris',\n",
    "                  'Davit',\n",
    "                  'Diana',\n",
    "                  'Edgar',\n",
    "                  'Eduard',\n",
    "                  'Elen',\n",
    "                  'Elena',\n",
    "                  'Elina',\n",
    "                  'Elmira',\n",
    "                  'Emil',\n",
    "                  'Emma',\n",
    "                  'Erik',\n",
    "                  'Ester',\n",
    "                  'Evelina',\n",
    "                  'Gagik',\n",
    "                  'Garegin',\n",
    "                  'Garik',\n",
    "                  'Garnik',\n",
    "                  'Gayane',\n",
    "                  'Gegham',\n",
    "                  'Genadi',\n",
    "                  'Georgi',\n",
    "                  'Gev',\n",
    "                  'Gevorg',\n",
    "                  'Gor',\n",
    "                  'Greta',\n",
    "                  'Grigor',\n",
    "                  'Grigori',\n",
    "                  'Gurgen',\n",
    "                  'Hakob',\n",
    "                  'Hamazasp',\n",
    "                  'Hamlet',\n",
    "                  'Harut',\n",
    "                  'Harutyun',\n",
    "                  'Hasmik',\n",
    "                  'Hayk',\n",
    "                  'Haykaz',\n",
    "                  'Haykuhi',\n",
    "                  'Heghine',\n",
    "                  'Henrik',\n",
    "                  'Hermine',\n",
    "                  'Hovhannes',\n",
    "                  'Hovik',\n",
    "                  'Hovo',\n",
    "                  'Hovsep',\n",
    "                  'Hrach',\n",
    "                  'Hrachya',\n",
    "                  'Hrant',\n",
    "                  'Hrayr',\n",
    "                  'Hripsime',\n",
    "                  'Hunan',\n",
    "                  'Inessa',\n",
    "                  'Inga',\n",
    "                  'Inna',\n",
    "                  'Irina',\n",
    "                  'Ivan',\n",
    "                  'Karapet',\n",
    "                  'Karen',\n",
    "                  'Karine',\n",
    "                  'Karlen',\n",
    "                  'Karo',\n",
    "                  'Khachatur',\n",
    "                  'Khachik',\n",
    "                  'Khnarik',\n",
    "                  'Kristina',\n",
    "                  'Kristine',\n",
    "                  'Laura',\n",
    "                  'Lena',\n",
    "                  'Levon',\n",
    "                  'Lia',\n",
    "                  'Liana',\n",
    "                  'Lilia',\n",
    "                  'Lilit',\n",
    "                  'Lusine',\n",
    "                  'Luiza',\n",
    "                  'Mane',\n",
    "                  'Manush',\n",
    "                  'Manvel',\n",
    "                  'Marat',\n",
    "                  'Margarita',\n",
    "                  'Mari',\n",
    "                  'Maria',\n",
    "                  'Mariam',\n",
    "                  'Marianna',\n",
    "                  'Marina',\n",
    "                  'Marine',\n",
    "                  'Mariya',\n",
    "                  'Martin',\n",
    "                  'Marvan',\n",
    "                  'Mary',\n",
    "                  'Meline',\n",
    "                  'Meri',\n",
    "                  'Mesrop',\n",
    "                  'Mher',\n",
    "                  'Mihran',\n",
    "                  'Mikayel',\n",
    "                  'Milena',\n",
    "                  'Misak',\n",
    "                  'Mkrtich',\n",
    "                  'Monika',\n",
    "                  'Mushegh',\n",
    "                  'Nairi',\n",
    "                  'Naira',\n",
    "                  'Nara',\n",
    "                  'Nare',\n",
    "                  'Narek',\n",
    "                  'Narine',\n",
    "                  'Natalia',\n",
    "                  'Nelli',\n",
    "                  'Nerses',\n",
    "                  'Nina',\n",
    "                  'Nona',\n",
    "                  'Norayr',\n",
    "                  'Nune',\n",
    "                  'Nvard',\n",
    "                  'Ofelya',\n",
    "                  'Ovsanna',\n",
    "                  'Paruyr',\n",
    "                  'Petros',\n",
    "                  'Qnqush',\n",
    "                  'Qristine',\n",
    "                  'Rafayel',\n",
    "                  'Razmik',\n",
    "                  'Rima',\n",
    "                  'Robert',\n",
    "                  'Roman',\n",
    "                  'Roza',\n",
    "                  'Ruben',\n",
    "                  'Ruzan',\n",
    "                  'Ruzanna',\n",
    "                  'Sahak',\n",
    "                  'Samvel',\n",
    "                  'Sargis',\n",
    "                  'Sasun',\n",
    "                  'Satenik',\n",
    "                  'Seda',\n",
    "                  'Sergey',\n",
    "                  'Serob',\n",
    "                  'Sevak',\n",
    "                  'Shahen',\n",
    "                  'Shushan',\n",
    "                  'Shushanik',\n",
    "                  'Siranush',\n",
    "                  'Smbat',\n",
    "                  'Sofya',\n",
    "                  'Sona',\n",
    "                  'Stanislav',\n",
    "                  'Stella',\n",
    "                  'Stepan',\n",
    "                  'Steven',\n",
    "                  'Suren',\n",
    "                  'Susann',\n",
    "                  'Svetlana',\n",
    "                  'Syuzanna',\n",
    "                  'Syuzi',\n",
    "                  'Taguhi',\n",
    "                  'Tamara',\n",
    "                  'Taron',\n",
    "                  'Tatev',\n",
    "                  'Tatevik',\n",
    "                  'Tigran',\n",
    "                  'Vagharshak',\n",
    "                  'Vahagn',\n",
    "                  'Vahan',\n",
    "                  'Vahe',\n",
    "                  'Vahram',\n",
    "                  'Vardan',\n",
    "                  'Vardges',\n",
    "                  'Varduhi',\n",
    "                  'Varsik',\n",
    "                  'Vazgen',\n",
    "                  'Vigen',\n",
    "                  'Vika',\n",
    "                  'Viktoria',\n",
    "                  'Vilen',\n",
    "                  'Vladimir',\n",
    "                  'Yanna',\n",
    "                  'Yelena',\n",
    "                  'Yervand',\n",
    "                  'Yeva',\n",
    "                  'Yuri',\n",
    "                  'Zara',\n",
    "                  'Zareh',\n",
    "                  'Zaruhi',\n",
    "                  'Zaven',\n",
    "                  'test']"
   ],
   "metadata": {
    "collapsed": false,
    "pycharm": {
     "name": "#%%\n"
    }
   }
  },
  {
   "cell_type": "code",
   "execution_count": 3,
   "outputs": [],
   "source": [
    "df = pd.read_csv('user_profile.csv')"
   ],
   "metadata": {
    "collapsed": false,
    "pycharm": {
     "name": "#%%\n"
    }
   }
  },
  {
   "cell_type": "code",
   "execution_count": 4,
   "outputs": [
    {
     "data": {
      "text/plain": "      Name\n0  Luisine\n1     ani \n2     Abel\n3    Abgar\n4  Abraham",
      "text/html": "<div>\n<style scoped>\n    .dataframe tbody tr th:only-of-type {\n        vertical-align: middle;\n    }\n\n    .dataframe tbody tr th {\n        vertical-align: top;\n    }\n\n    .dataframe thead th {\n        text-align: right;\n    }\n</style>\n<table border=\"1\" class=\"dataframe\">\n  <thead>\n    <tr style=\"text-align: right;\">\n      <th></th>\n      <th>Name</th>\n    </tr>\n  </thead>\n  <tbody>\n    <tr>\n      <th>0</th>\n      <td>Luisine</td>\n    </tr>\n    <tr>\n      <th>1</th>\n      <td>ani</td>\n    </tr>\n    <tr>\n      <th>2</th>\n      <td>Abel</td>\n    </tr>\n    <tr>\n      <th>3</th>\n      <td>Abgar</td>\n    </tr>\n    <tr>\n      <th>4</th>\n      <td>Abraham</td>\n    </tr>\n  </tbody>\n</table>\n</div>"
     },
     "execution_count": 4,
     "metadata": {},
     "output_type": "execute_result"
    }
   ],
   "source": [
    "df.head()"
   ],
   "metadata": {
    "collapsed": false,
    "pycharm": {
     "name": "#%%\n"
    }
   }
  },
  {
   "cell_type": "code",
   "execution_count": 5,
   "outputs": [
    {
     "name": "stdout",
     "output_type": "stream",
     "text": [
      "94\n"
     ]
    },
    {
     "name": "stderr",
     "output_type": "stream",
     "text": [
      "C:\\Users\\User\\IdeaProjects\\Code_signal_probblems\\venv\\lib\\site-packages\\fuzzywuzzy\\fuzz.py:11: UserWarning: Using slow pure-python SequenceMatcher. Install python-Levenshtein to remove this warning\n",
      "  warnings.warn('Using slow pure-python SequenceMatcher. Install python-Levenshtein to remove this warning')\n"
     ]
    }
   ],
   "source": [
    "from fuzzywuzzy import fuzz\n",
    "from fuzzywuzzy import process\n",
    "\n",
    "print(fuzz.ratio(\"Catherine M Gitau\",\"Catherine Gitau\"))"
   ],
   "metadata": {
    "collapsed": false,
    "pycharm": {
     "name": "#%%\n"
    }
   }
  },
  {
   "cell_type": "code",
   "execution_count": 6,
   "outputs": [],
   "source": [
    "df['Precentage'] = 0\n",
    "df['Name_1'] = ''"
   ],
   "metadata": {
    "collapsed": false,
    "pycharm": {
     "name": "#%%\n"
    }
   }
  },
  {
   "cell_type": "code",
   "execution_count": 7,
   "outputs": [],
   "source": [
    "name_arr = []\n",
    "percentage_arr = []\n",
    "for i in df['Name']:\n",
    "    highest_percent = 0\n",
    "    highest_name = ''\n",
    "    for j in existing_names:\n",
    "        percentage = fuzz.ratio(i, j)\n",
    "        if percentage > highest_percent:\n",
    "            highest_percent = percentage\n",
    "            highest_name = j\n",
    "    name_arr.append(highest_name)\n",
    "    percentage_arr.append(highest_percent)"
   ],
   "metadata": {
    "collapsed": false,
    "pycharm": {
     "name": "#%%\n"
    }
   }
  },
  {
   "cell_type": "code",
   "execution_count": 8,
   "outputs": [],
   "source": [
    "df['Precentage'] = percentage_arr\n",
    "df['Name_1'] = name_arr"
   ],
   "metadata": {
    "collapsed": false,
    "pycharm": {
     "name": "#%%\n"
    }
   }
  },
  {
   "cell_type": "code",
   "execution_count": 9,
   "outputs": [],
   "source": [
    "df.to_excel('Done.xlsx')"
   ],
   "metadata": {
    "collapsed": false,
    "pycharm": {
     "name": "#%%\n"
    }
   }
  },
  {
   "cell_type": "code",
   "execution_count": null,
   "outputs": [],
   "source": [],
   "metadata": {
    "collapsed": false,
    "pycharm": {
     "name": "#%%\n"
    }
   }
  }
 ],
 "metadata": {
  "kernelspec": {
   "display_name": "Python 3",
   "language": "python",
   "name": "python3"
  },
  "language_info": {
   "codemirror_mode": {
    "name": "ipython",
    "version": 2
   },
   "file_extension": ".py",
   "mimetype": "text/x-python",
   "name": "python",
   "nbconvert_exporter": "python",
   "pygments_lexer": "ipython2",
   "version": "2.7.6"
  }
 },
 "nbformat": 4,
 "nbformat_minor": 0
}